{
  "nbformat": 4,
  "nbformat_minor": 0,
  "metadata": {
    "colab": {
      "provenance": []
    },
    "kernelspec": {
      "name": "python3",
      "display_name": "Python 3"
    },
    "language_info": {
      "name": "python"
    }
  },
  "cells": [
    {
      "cell_type": "markdown",
      "source": [
        "# **Restful API & Flask**"
      ],
      "metadata": {
        "id": "gD4RSChVlG_s"
      }
    },
    {
      "cell_type": "markdown",
      "source": [
        "**Q1. What is a RESTful API?**"
      ],
      "metadata": {
        "id": "1ZQGD2AelJ4w"
      }
    },
    {
      "cell_type": "markdown",
      "source": [
        "**Ans:-**A RESTful API (Representational State Transfer API) is a type of web service that follows the principles of REST architecture, allowing systems to communicate over HTTP using standard web methods."
      ],
      "metadata": {
        "id": "LFp2IVkQlOgx"
      }
    },
    {
      "cell_type": "markdown",
      "source": [
        "**Q2.Explain the concept of API specification.**"
      ],
      "metadata": {
        "id": "2E_Y6w9nlZVb"
      }
    },
    {
      "cell_type": "markdown",
      "source": [
        "**Ans:-**An API specification is a detailed, standardized description of how an API works. It defines the rules, structure, and behavior of the API so that both developers and systems can understand how to interact with it correctly"
      ],
      "metadata": {
        "id": "aXutnDCEld0n"
      }
    },
    {
      "cell_type": "markdown",
      "source": [
        "**Q3.What is Flask, and why is it popular for building APIs?**"
      ],
      "metadata": {
        "id": "MSGuyzTdlkAc"
      }
    },
    {
      "cell_type": "markdown",
      "source": [
        "**Ans:-**lask is a lightweight web framework written in Python. It is widely used for building web applications and APIs because of its simplicity, flexibility, and minimalistic design."
      ],
      "metadata": {
        "id": "hsS_lAcblpoj"
      }
    },
    {
      "cell_type": "markdown",
      "source": [
        "**Q4. What is routing in Flask?**"
      ],
      "metadata": {
        "id": "9qX82OUxlweT"
      }
    },
    {
      "cell_type": "markdown",
      "source": [
        "**Ans:-**Routing in Flask refers to the process of mapping URLs (web addresses) to Python functions that handle requests and return responses. These functions are called view functions or route handlers."
      ],
      "metadata": {
        "id": "LpBSWTigl01y"
      }
    },
    {
      "cell_type": "markdown",
      "source": [
        "**Q5.How do you create a simple Flask application?**"
      ],
      "metadata": {
        "id": "2ASxpAR4l8bW"
      }
    },
    {
      "cell_type": "markdown",
      "source": [
        "**Ans:-**A simple Flask application is a small Python program that uses the Flask framework to create a web server that can handle HTTP requests and return responses like text or HTML pages.\n",
        "\n"
      ],
      "metadata": {
        "id": "fR2zTSwMmCIW"
      }
    },
    {
      "cell_type": "markdown",
      "source": [
        "**Q6.What are HTTP methods used in RESTful APIs?**"
      ],
      "metadata": {
        "id": "uT-DqMl4mU-j"
      }
    },
    {
      "cell_type": "markdown",
      "source": [
        "**Ans:-** HTTP methods are used to define the action a client wants to perform on a resource (such as users, posts, products, etc.)."
      ],
      "metadata": {
        "id": "QgSRgfTAmgPH"
      }
    },
    {
      "cell_type": "markdown",
      "source": [
        "**Q7.What is the purpose of the @app.route() decorator in Flask?**"
      ],
      "metadata": {
        "id": "VdLH2Xr7mjA-"
      }
    },
    {
      "cell_type": "markdown",
      "source": [
        "**Ans:-**The @app.route() decorator in Flask is used to define a URL route and bind it to a view function"
      ],
      "metadata": {
        "id": "nLbs7Tpdmndu"
      }
    },
    {
      "cell_type": "markdown",
      "source": [
        "**Q8. What is the difference between GET and POST HTTP methods?**"
      ],
      "metadata": {
        "id": "cc_HJlhsmy0e"
      }
    },
    {
      "cell_type": "markdown",
      "source": [
        "**Ans:-**The GET and POST HTTP methods are two of the most commonly used methods in RESTful APIs and web applications. They serve different purposes and have key differences in how data is sent and handled."
      ],
      "metadata": {
        "id": "PVk4d6Fpm4YW"
      }
    },
    {
      "cell_type": "markdown",
      "source": [
        "**Q9. How do you handle errors in Flask APIs?**"
      ],
      "metadata": {
        "id": "Qr_CP5hNm-z2"
      }
    },
    {
      "cell_type": "markdown",
      "source": [
        "**Ans:-**Flask APIs, handling errors properly is crucial for giving clear feedback to clients and for debugging. Flask provides several ways to handle errors gracefully using error handlers, HTTP status codes, and JSON responses"
      ],
      "metadata": {
        "id": "VClTABU6nDpi"
      }
    },
    {
      "cell_type": "markdown",
      "source": [
        "**Q10.How do you connect Flask to a SQL database?**"
      ],
      "metadata": {
        "id": "RcN1Kwm-nKMn"
      }
    },
    {
      "cell_type": "markdown",
      "source": [
        "**Ans:-**Connecting Flask to a SQL database is a common task when building web applications or APIs that require data storage and retrieval. Here's how you can do it, typically using SQLAlchemy, which is the most popular ORM (Object Relational Mapper) for Flask."
      ],
      "metadata": {
        "id": "uNuqIO9DnRRu"
      }
    },
    {
      "cell_type": "markdown",
      "source": [
        "**Q11.What is the role of Flask-SQLAlchemy?**"
      ],
      "metadata": {
        "id": "0vbdvUbnnazy"
      }
    },
    {
      "cell_type": "markdown",
      "source": [
        "**Ans:-**Flask-SQLAlchemy is an extension for Flask that simplifies using SQLAlchemy, a powerful Python ORM (Object-Relational Mapper), within Flask applications."
      ],
      "metadata": {
        "id": "09R1VHo_nggu"
      }
    },
    {
      "cell_type": "markdown",
      "source": [
        "**Q12.What are Flask blueprints, and how are they useful?**"
      ],
      "metadata": {
        "id": "6kZoKVQOnmvW"
      }
    },
    {
      "cell_type": "markdown",
      "source": [
        "**Ans:-**Flask Blueprints are a way to organize your Flask application into smaller, reusable components or modules. They let you split a large app into distinct parts, each with its own routes, templates, static files, and logic."
      ],
      "metadata": {
        "id": "0rsAt_hLnyZi"
      }
    },
    {
      "cell_type": "markdown",
      "source": [
        "**Q13. What is the purpose of Flask's request object?**"
      ],
      "metadata": {
        "id": "W2TFIMdTn02O"
      }
    },
    {
      "cell_type": "markdown",
      "source": [
        "**Ans:-**The request object in Flask is used to access incoming HTTP request data. It represents the client’s request to your Flask application and provides all the information sent by the browser or API consumer."
      ],
      "metadata": {
        "id": "c37woDQBn431"
      }
    },
    {
      "cell_type": "markdown",
      "source": [
        "**Q14. How do you create a RESTful API endpoint using Flask?**"
      ],
      "metadata": {
        "id": "bpNSCBZ4oAM6"
      }
    },
    {
      "cell_type": "markdown",
      "source": [
        "**Ans:-**To create a RESTful API endpoint using Flask means to define a URL route in your Flask app that responds to specific HTTP methods (like GET, POST, PUT, DELETE) and performs actions on resources such as users, products, or tasks — following REST principles.\n",
        "\n"
      ],
      "metadata": {
        "id": "FATQdqCDoKwK"
      }
    },
    {
      "cell_type": "markdown",
      "source": [
        "**Q15.What is the purpose of Flask's jsonify() function?**"
      ],
      "metadata": {
        "id": "Vpvj7nKvoShp"
      }
    },
    {
      "cell_type": "markdown",
      "source": [
        "**Ans:-**The purpose of Flask’s jsonify() function is to convert Python data (like dictionaries or lists) into a JSON-formatted HTTP response — which is the standard format for RESTful APIs."
      ],
      "metadata": {
        "id": "VWZdzbGIoYjy"
      }
    },
    {
      "cell_type": "markdown",
      "source": [
        "**Q16. Explain Flask’s url_for() function?**"
      ],
      "metadata": {
        "id": "MTGcccu1od8y"
      }
    },
    {
      "cell_type": "markdown",
      "source": [
        "**Ans:-**The url_for() function in Flask is used to generate a URL for a given view function name. Instead of hardcoding URLs in your templates or code, you use url_for() to build them dynamically — making your application more maintainable and robust."
      ],
      "metadata": {
        "id": "Yl4Gi_yMoizC"
      }
    },
    {
      "cell_type": "markdown",
      "source": [
        "**Q17. How does Flask handle static files (CSS, JavaScript, etc.)?**"
      ],
      "metadata": {
        "id": "jyi-b7JJopfi"
      }
    },
    {
      "cell_type": "markdown",
      "source": [
        "**Ans:-**Flask handles static files (like CSS, JavaScript, images, etc.) using a special /static/ route. By default, Flask automatically serves files from a folder named static in your project directory.\n",
        "\n"
      ],
      "metadata": {
        "id": "7DIl_5iSow2J"
      }
    },
    {
      "cell_type": "markdown",
      "source": [
        "**Q18.What is an API specification, and how does it help in building a Flask API?**"
      ],
      "metadata": {
        "id": "3-_mNp6so655"
      }
    },
    {
      "cell_type": "markdown",
      "source": [
        "**Ans:-**An API specification is a detailed description of how an API should behave — including the endpoints, methods, request/response formats, parameters, data types, and status codes."
      ],
      "metadata": {
        "id": "GkSBK1tPpAye"
      }
    },
    {
      "cell_type": "markdown",
      "source": [
        "**Q19.What are HTTP status codes, and why are they important in a Flask API?**"
      ],
      "metadata": {
        "id": "6ClqixOJpIfu"
      }
    },
    {
      "cell_type": "markdown",
      "source": [
        "Ans:-HTTP status codes are standardized three-digit numbers returned by a server in response to a client’s request. They indicate the result of the request — whether it was successful, caused an error, or needs further action."
      ],
      "metadata": {
        "id": "wtGkfao0pQ0i"
      }
    },
    {
      "cell_type": "markdown",
      "source": [
        "**Q20.How do you handle POST requests in Flask?**"
      ],
      "metadata": {
        "id": "SrS9D2Sspazd"
      }
    },
    {
      "cell_type": "markdown",
      "source": [
        "**Ans:-**Handling POST requests in Flask means creating a route that listens for HTTP POST methods, receives data (like JSON or form input) from the client, processes it, and then returns a response — typically to create or submit a resource."
      ],
      "metadata": {
        "id": "f49mSBOlpfXG"
      }
    },
    {
      "cell_type": "markdown",
      "source": [
        "**Q21.How would you secure a Flask API?**"
      ],
      "metadata": {
        "id": "lqONS6mRpwGG"
      }
    },
    {
      "cell_type": "markdown",
      "source": [
        "**Ans:-**Securing a Flask API means implementing measures and best practices that protect the API from unauthorized access, data breaches, and malicious attacks — ensuring that only authenticated and authorized clients can interact with the API safely and reliably."
      ],
      "metadata": {
        "id": "UfArVnazp6ru"
      }
    },
    {
      "cell_type": "markdown",
      "source": [
        "**Q22.What is the significance of the Flask-RESTful extension?**"
      ],
      "metadata": {
        "id": "DODZLL2zqQtJ"
      }
    },
    {
      "cell_type": "markdown",
      "source": [
        "**Ans:-**Flask-RESTful is a popular Flask extension that simplifies building RESTful APIs by providing useful abstractions and tools on top of Flask’s core features."
      ],
      "metadata": {
        "id": "U88CK_TqqT08"
      }
    },
    {
      "cell_type": "markdown",
      "source": [
        "**Q23. What is the role of Flask’s session object?**"
      ],
      "metadata": {
        "id": "vgJ6O_m4qdN-"
      }
    },
    {
      "cell_type": "markdown",
      "source": [
        "**Ans:-**The session object in Flask is used to store data specific to a user’s session between requests. It allows you to keep track of information (like user login status or preferences) across multiple requests without requiring the user to resend that data every time."
      ],
      "metadata": {
        "id": "5e9h5whYqiwd"
      }
    },
    {
      "cell_type": "markdown",
      "source": [
        "# **Practical**"
      ],
      "metadata": {
        "id": "u5-5KS4Tqqkc"
      }
    },
    {
      "cell_type": "markdown",
      "source": [
        "**Q1.How do you create a basic Flask application?**"
      ],
      "metadata": {
        "id": "WQz2hyDtquMs"
      }
    },
    {
      "cell_type": "code",
      "source": [
        "pip install Flask\n"
      ],
      "metadata": {
        "colab": {
          "base_uri": "https://localhost:8080/"
        },
        "id": "KGYg5cDBq03p",
        "outputId": "22392bde-fe6c-453f-e4c1-7d173b5afe76"
      },
      "execution_count": null,
      "outputs": [
        {
          "output_type": "stream",
          "name": "stdout",
          "text": [
            "Requirement already satisfied: Flask in /usr/local/lib/python3.11/dist-packages (3.1.1)\n",
            "Requirement already satisfied: blinker>=1.9.0 in /usr/local/lib/python3.11/dist-packages (from Flask) (1.9.0)\n",
            "Requirement already satisfied: click>=8.1.3 in /usr/local/lib/python3.11/dist-packages (from Flask) (8.2.1)\n",
            "Requirement already satisfied: itsdangerous>=2.2.0 in /usr/local/lib/python3.11/dist-packages (from Flask) (2.2.0)\n",
            "Requirement already satisfied: jinja2>=3.1.2 in /usr/local/lib/python3.11/dist-packages (from Flask) (3.1.6)\n",
            "Requirement already satisfied: markupsafe>=2.1.1 in /usr/local/lib/python3.11/dist-packages (from Flask) (3.0.2)\n",
            "Requirement already satisfied: werkzeug>=3.1.0 in /usr/local/lib/python3.11/dist-packages (from Flask) (3.1.3)\n"
          ]
        }
      ]
    },
    {
      "cell_type": "code",
      "source": [
        "from flask import Flask\n",
        "\n",
        "app = Flask(__name__)\n",
        "\n",
        "@app.route('/')\n",
        "def home():\n",
        "    return \"Hello, Flask!\"\n",
        "\n",
        "if __name__ == '__main__':\n",
        "    app.run(debug=True)\n"
      ],
      "metadata": {
        "id": "Dj05UTRHrNzp",
        "colab": {
          "base_uri": "https://localhost:8080/"
        },
        "outputId": "0da51639-762b-4309-981a-35509ca52092"
      },
      "execution_count": null,
      "outputs": [
        {
          "output_type": "stream",
          "name": "stdout",
          "text": [
            " * Serving Flask app '__main__'\n",
            " * Debug mode: on\n"
          ]
        },
        {
          "output_type": "stream",
          "name": "stderr",
          "text": [
            "INFO:werkzeug:\u001b[31m\u001b[1mWARNING: This is a development server. Do not use it in a production deployment. Use a production WSGI server instead.\u001b[0m\n",
            " * Running on http://127.0.0.1:5000\n",
            "INFO:werkzeug:\u001b[33mPress CTRL+C to quit\u001b[0m\n",
            "INFO:werkzeug: * Restarting with stat\n"
          ]
        }
      ]
    },
    {
      "cell_type": "markdown",
      "source": [
        "**Q2. How do you serve static files like images or CSS in Flask?**"
      ],
      "metadata": {
        "id": "o1TsKybrrQr4"
      }
    },
    {
      "cell_type": "code",
      "source": [
        "<!DOCTYPE html>\n",
        "<html>\n",
        "<head>\n",
        "  <link rel=\"stylesheet\" href=\"{{ url_for('static', filename='style.css') }}\">\n",
        "</head>\n",
        "<body>\n",
        "  <img src=\"{{ url_for('static', filename='logo.png') }}\" alt=\"Logo\">\n",
        "  <script src=\"{{ url_for('static', filename='script.js') }}\"></script>\n",
        "</body>\n",
        "</html>\n"
      ],
      "metadata": {
        "id": "YXtktgwCrYMt"
      },
      "execution_count": null,
      "outputs": []
    },
    {
      "cell_type": "markdown",
      "source": [
        "**Q3. How do you define different routes with different HTTP methods in Flask?**"
      ],
      "metadata": {
        "id": "3qkyS7U-kSUy"
      }
    },
    {
      "cell_type": "code",
      "source": [
        "@app.route('/your-route', methods=['GET', 'POST', 'PUT', 'DELETE'])\n",
        "def your_function():\n",
        "    if request.method == 'GET':\n",
        "        # Handle GET\n",
        "    elif request.method == 'POST':\n",
        "        # Handle POST\n"
      ],
      "metadata": {
        "id": "yOUy5HJekRe4"
      },
      "execution_count": null,
      "outputs": []
    },
    {
      "cell_type": "markdown",
      "source": [
        "**Q4.How do you render HTML templates in Flask?**"
      ],
      "metadata": {
        "id": "8ND1w68Nkntk"
      }
    },
    {
      "cell_type": "code",
      "source": [
        "<!DOCTYPE html>\n",
        "<html>\n",
        "<head>\n",
        "    <title>Flask Example</title>\n",
        "</head>\n",
        "<body>\n",
        "    <h1>Hello, {{ name }}!</h1>\n",
        "</body>\n",
        "</html>\n"
      ],
      "metadata": {
        "id": "HaXRmRtAkm_b"
      },
      "execution_count": null,
      "outputs": []
    },
    {
      "cell_type": "markdown",
      "source": [
        "**Q5. How can you generate URLs for routes in Flask using url_for?**"
      ],
      "metadata": {
        "id": "6Pry0a0Ik28g"
      }
    },
    {
      "cell_type": "code",
      "source": [
        "from flask import Flask, url_for, redirect\n",
        "\n",
        "app = Flask(__name__)\n",
        "\n",
        "@app.route('/hello')\n",
        "def hello():\n",
        "    return \"Hello, World!\"\n",
        "\n",
        "@app.route('/')\n",
        "def index():\n",
        "    return redirect(url_for('hello'))\n"
      ],
      "metadata": {
        "id": "E8zxQpESk2D9"
      },
      "execution_count": null,
      "outputs": []
    },
    {
      "cell_type": "markdown",
      "source": [
        "**Q6.How do you handle forms in Flask?**"
      ],
      "metadata": {
        "id": "qDJqIyYblFxV"
      }
    },
    {
      "cell_type": "code",
      "source": [
        "<!DOCTYPE html>\n",
        "<html>\n",
        "<head><title>Form Example</title></head>\n",
        "<body>\n",
        "  <form method=\"POST\" action=\"/submit\">\n",
        "    Name: <input type=\"text\" name=\"name\">\n",
        "    <input type=\"submit\" value=\"Submit\">\n",
        "  </form>\n",
        "</body>\n",
        "</html>\n"
      ],
      "metadata": {
        "id": "d-1Mu-lxlE7u"
      },
      "execution_count": null,
      "outputs": []
    },
    {
      "cell_type": "markdown",
      "source": [
        "**Q7. How can you validate form data in Flask?**"
      ],
      "metadata": {
        "id": "bGgjW71RlQxH"
      }
    },
    {
      "cell_type": "code",
      "source": [
        "from flask import Flask, request, render_template, redirect, flash\n",
        "\n",
        "app = Flask(__name__)\n",
        "app.secret_key = 'your_secret_key'  # Needed for flashing messages\n",
        "\n",
        "@app.route('/form')\n",
        "def form():\n",
        "    return render_template('form.html')\n",
        "\n",
        "@app.route('/submit', methods=['POST'])\n",
        "def submit():\n",
        "    name = request.form.get('name')\n",
        "\n",
        "    if not name:\n",
        "        flash('Name is required!')\n",
        "        return redirect('/form')\n",
        "\n",
        "    return f\"Hello, {name}!\"\n"
      ],
      "metadata": {
        "id": "HBlx61JZlQFY"
      },
      "execution_count": null,
      "outputs": []
    },
    {
      "cell_type": "markdown",
      "source": [
        "**Q8. How do you manage sessions in Flask?**"
      ],
      "metadata": {
        "id": "-gy4uwwBlck4"
      }
    },
    {
      "cell_type": "code",
      "source": [
        "from flask import Flask, session\n",
        "\n",
        "app = Flask(__name__)\n",
        "app.secret_key = 'your_secret_key'  # Keep this secret in production!\n"
      ],
      "metadata": {
        "id": "d6SoPmBVlb-u"
      },
      "execution_count": null,
      "outputs": []
    },
    {
      "cell_type": "markdown",
      "source": [
        "**Q9.How do you redirect to a different route in Flask?**"
      ],
      "metadata": {
        "id": "4hlLmmJXlnsU"
      }
    },
    {
      "cell_type": "code",
      "source": [
        "from flask import Flask, redirect, url_for\n",
        "\n",
        "app = Flask(__name__)\n",
        "\n",
        "@app.route('/')\n",
        "def home():\n",
        "    return redirect(url_for('welcome'))\n",
        "\n",
        "@app.route('/welcome')\n",
        "def welcome():\n",
        "    return \"Welcome to the redirected page!\"\n"
      ],
      "metadata": {
        "id": "8sTvHcv-lm5Z"
      },
      "execution_count": null,
      "outputs": []
    },
    {
      "cell_type": "markdown",
      "source": [
        "**Q10.How do you handle errors in Flask (e.g., 404)?**"
      ],
      "metadata": {
        "id": "XCrc7vM4lymT"
      }
    },
    {
      "cell_type": "code",
      "source": [
        "from flask import Flask, render_template\n",
        "\n",
        "app = Flask(__name__)\n",
        "\n",
        "@app.errorhandler(404)\n",
        "def not_found(error):\n",
        "    return render_template('404.html'), 404\n",
        "\n",
        "@app.errorhandler(500)\n",
        "def server_error(error):\n",
        "    return render_template('500.html'), 500\n"
      ],
      "metadata": {
        "id": "WzVPCf6XlyC2"
      },
      "execution_count": null,
      "outputs": []
    },
    {
      "cell_type": "markdown",
      "source": [
        "**Q11.How do you structure a Flask app using Blueprints?**"
      ],
      "metadata": {
        "id": "5dMY4bs9l9fq"
      }
    },
    {
      "cell_type": "code",
      "source": [
        "from flask import Blueprint\n",
        "\n",
        "home_bp = Blueprint('home', __name__)\n",
        "\n",
        "@home_bp.route('/')\n",
        "def home():\n",
        "    return \"Welcome to the Home Page!\"\n"
      ],
      "metadata": {
        "id": "DM1K2p0bl8wF"
      },
      "execution_count": null,
      "outputs": []
    },
    {
      "cell_type": "markdown",
      "source": [
        "**Q12. How do you define a custom Jinja filter in Flask?**"
      ],
      "metadata": {
        "id": "zknUSAJRmOBY"
      }
    },
    {
      "cell_type": "code",
      "source": [
        "from flask import Flask, render_template\n",
        "\n",
        "app = Flask(__name__)\n",
        "\n",
        "def reverse_string(s):\n",
        "    return s[::-1]\n",
        "\n",
        "# Register the filter\n",
        "app.jinja_env.filters['reverse'] = reverse_string\n",
        "\n",
        "@app.route('/')\n",
        "def index():\n",
        "    return render_template('index.html', name=\"Flask\")\n",
        "\n",
        "if __name__ == '__main__':\n",
        "    app.run(debug=True)\n"
      ],
      "metadata": {
        "id": "BnKhdKKAmMot"
      },
      "execution_count": null,
      "outputs": []
    },
    {
      "cell_type": "markdown",
      "source": [
        "**Q13. How can you redirect with query parameters in Flask?**"
      ],
      "metadata": {
        "id": "bJX2OVzkmsj5"
      }
    },
    {
      "cell_type": "code",
      "source": [
        "from flask import Flask, redirect, url_for\n",
        "\n",
        "app = Flask(__name__)\n",
        "\n",
        "@app.route('/search')\n",
        "def search():\n",
        "    # Imagine this is a search results page\n",
        "    return \"Search results page\"\n",
        "\n",
        "@app.route('/go-to-search')\n",
        "def go_to_search():\n",
        "    # Redirect to /search?q=flask&sort=asc\n",
        "    return redirect(url_for('search', q='flask', sort='asc'))\n"
      ],
      "metadata": {
        "id": "aV733JjPmr8M"
      },
      "execution_count": null,
      "outputs": []
    },
    {
      "cell_type": "markdown",
      "source": [
        "**Q14.How do you return JSON responses in Flask?**"
      ],
      "metadata": {
        "id": "aqmFaOvDm3bu"
      }
    },
    {
      "cell_type": "code",
      "source": [
        "from flask import Flask, jsonify\n",
        "\n",
        "app = Flask(__name__)\n",
        "\n",
        "@app.route('/api/data')\n",
        "def data():\n",
        "    response = {\n",
        "        \"name\": \"Alice\",\n",
        "        \"age\": 30,\n",
        "        \"city\": \"New York\"\n",
        "    }\n",
        "    return jsonify(response)\n"
      ],
      "metadata": {
        "id": "L68LZDtCm2m4"
      },
      "execution_count": null,
      "outputs": []
    },
    {
      "cell_type": "markdown",
      "source": [
        "**Q15.How do you capture URL parameters in Flask?**"
      ],
      "metadata": {
        "id": "JJGEDRVtnBdC"
      }
    },
    {
      "cell_type": "code",
      "source": [
        "from flask import Flask\n",
        "\n",
        "app = Flask(__name__)\n",
        "\n",
        "@app.route('/user/<username>')\n",
        "def show_user(username):\n",
        "    return f\"User: {username}\"\n"
      ],
      "metadata": {
        "id": "BdcSvJ67nAd4"
      },
      "execution_count": null,
      "outputs": []
    },
    {
      "cell_type": "code",
      "source": [],
      "metadata": {
        "id": "u132FDK3nMM-"
      },
      "execution_count": null,
      "outputs": []
    }
  ]
}